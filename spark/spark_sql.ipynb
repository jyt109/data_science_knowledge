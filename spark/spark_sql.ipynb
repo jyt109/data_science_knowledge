{
 "cells": [
  {
   "cell_type": "code",
   "execution_count": 1,
   "metadata": {
    "collapsed": false
   },
   "outputs": [],
   "source": [
    "from pyspark import SparkContext\n",
    "from pyspark.sql import HiveContext\n",
    "sc = SparkContext('local[4]')"
   ]
  },
  {
   "cell_type": "markdown",
   "metadata": {},
   "source": [
    "- **HiveContext is same as SQLContext, except HiveContext has more features**\n",
    "- **Therefore in practice, always use HiveContext**"
   ]
  },
  {
   "cell_type": "code",
   "execution_count": 2,
   "metadata": {
    "collapsed": true
   },
   "outputs": [],
   "source": [
    "hive_contxt = HiveContext(sc)"
   ]
  },
  {
   "cell_type": "markdown",
   "metadata": {},
   "source": [
    "- **Make an RDD where each item of the RDD is a JSON in string form**"
   ]
  },
  {
   "cell_type": "code",
   "execution_count": 3,
   "metadata": {
    "collapsed": true
   },
   "outputs": [],
   "source": [
    "rdd = sc.parallelize(['{\"name\":\"Yin\", \"address\":{\"city\":\"SF\",\"state\":\"CA\"}}',\n",
    "                      '{\"name\":\"Mike\", \"address\":{\"city\":\"SE\", \"state\":\"WA\"}, \"hobbies\":[\"coding\", \"fishing\"]}',\n",
    "                      '{\"name\":\"Mary\", \"address\":{\"city\":\"SE\", \"state\":\"WA\"}, \"hobbies\":[\"playing chess\"]}'])"
   ]
  },
  {
   "cell_type": "markdown",
   "metadata": {},
   "source": [
    "- **Make a SchemaRDD (can be queried with SQL) from the RDD of JSON strings**"
   ]
  },
  {
   "cell_type": "code",
   "execution_count": 4,
   "metadata": {
    "collapsed": false
   },
   "outputs": [],
   "source": [
    "json_rdd = hive_contxt.jsonRDD(rdd)"
   ]
  },
  {
   "cell_type": "markdown",
   "metadata": {},
   "source": [
    "- **Print the schema of the SchemaRDD**\n",
    "- **Note that the first row does not have the field hobbies (second row has), and yet the schema infers it**\n",
    "- **By default HiveContext jsonRDD infers the schema by looking at all the rows**"
   ]
  },
  {
   "cell_type": "code",
   "execution_count": 5,
   "metadata": {
    "collapsed": false
   },
   "outputs": [
    {
     "name": "stdout",
     "output_type": "stream",
     "text": [
      "root\n",
      " |-- address: struct (nullable = true)\n",
      " |    |-- city: string (nullable = true)\n",
      " |    |-- state: string (nullable = true)\n",
      " |-- hobbies: array (nullable = true)\n",
      " |    |-- element: string (containsNull = false)\n",
      " |-- name: string (nullable = true)\n",
      "\n"
     ]
    }
   ],
   "source": [
    "json_rdd.printSchema()"
   ]
  },
  {
   "cell_type": "markdown",
   "metadata": {},
   "source": [
    "- **Now register the SchemaRDD as a table, so we can query it**"
   ]
  },
  {
   "cell_type": "code",
   "execution_count": 6,
   "metadata": {
    "collapsed": true
   },
   "outputs": [],
   "source": [
    "json_rdd.registerTempTable('people')"
   ]
  },
  {
   "cell_type": "markdown",
   "metadata": {},
   "source": [
    "- **We can query the nested dictionary of the field `address` by specifying `address.city` for example**"
   ]
  },
  {
   "cell_type": "code",
   "execution_count": 7,
   "metadata": {
    "collapsed": false
   },
   "outputs": [],
   "source": [
    "everyone_rdd = hive_contxt.sql('SELECT name, address.city, address.state from people')"
   ]
  },
  {
   "cell_type": "markdown",
   "metadata": {},
   "source": [
    "- **Let's see the result**"
   ]
  },
  {
   "cell_type": "code",
   "execution_count": 8,
   "metadata": {
    "collapsed": false
   },
   "outputs": [
    {
     "data": {
      "text/plain": [
       "[Row(name=u'Yin', city=u'SF', state=u'CA'),\n",
       " Row(name=u'Mike', city=u'SE', state=u'WA'),\n",
       " Row(name=u'Mary', city=u'SE', state=u'WA')]"
      ]
     },
     "execution_count": 8,
     "metadata": {},
     "output_type": "execute_result"
    }
   ],
   "source": [
    "everyone_rdd.collect()"
   ]
  },
  {
   "cell_type": "code",
   "execution_count": 9,
   "metadata": {
    "collapsed": false
   },
   "outputs": [
    {
     "data": {
      "text/plain": [
       "['{\"name\":\"Yin\",\"city\":\"SF\",\"state\":\"CA\"}',\n",
       " '{\"name\":\"Mike\",\"city\":\"SE\",\"state\":\"WA\"}',\n",
       " '{\"name\":\"Mary\",\"city\":\"SE\",\"state\":\"WA\"}']"
      ]
     },
     "execution_count": 9,
     "metadata": {},
     "output_type": "execute_result"
    }
   ],
   "source": [
    "# Turn SchemaRDD to an RDD of JSON String and then collect\n",
    "everyone_rdd.toJSON().collect()"
   ]
  },
  {
   "cell_type": "code",
   "execution_count": 10,
   "metadata": {
    "collapsed": false
   },
   "outputs": [
    {
     "data": {
      "text/plain": [
       "[{u'city': u'SF', u'name': u'Yin', u'state': u'CA'},\n",
       " {u'city': u'SE', u'name': u'Mike', u'state': u'WA'},\n",
       " {u'city': u'SE', u'name': u'Mary', u'state': u'WA'}]"
      ]
     },
     "execution_count": 10,
     "metadata": {},
     "output_type": "execute_result"
    }
   ],
   "source": [
    "# Turn SchemaRDD to an RDD of dictionaries and then collect\n",
    "everyone_rdd.map(lambda row: row.asDict()).collect()"
   ]
  },
  {
   "cell_type": "markdown",
   "metadata": {},
   "source": [
    "- **We can even query fields that is an Array by using `LATERAL VIEW explode` in Hive**"
   ]
  },
  {
   "cell_type": "code",
   "execution_count": 11,
   "metadata": {
    "collapsed": false
   },
   "outputs": [],
   "source": [
    "rdd2 = hive_contxt.sql(\"\"\"SELECT * FROM people\n",
    "                          LATERAL VIEW explode(hobbies) h as hobby\n",
    "                          WHERE hobby = 'coding'\"\"\")"
   ]
  },
  {
   "cell_type": "code",
   "execution_count": 12,
   "metadata": {
    "collapsed": false
   },
   "outputs": [
    {
     "data": {
      "text/plain": [
       "[Row(address=Row(city=u'SE', state=u'WA'), hobbies=[u'coding', u'fishing'], name=u'Mike', hobby=u'coding')]"
      ]
     },
     "execution_count": 12,
     "metadata": {},
     "output_type": "execute_result"
    }
   ],
   "source": [
    "rdd2.collect()"
   ]
  }
 ],
 "metadata": {
  "kernelspec": {
   "display_name": "Python 2",
   "language": "python",
   "name": "python2"
  },
  "language_info": {
   "codemirror_mode": {
    "name": "ipython",
    "version": 2
   },
   "file_extension": ".py",
   "mimetype": "text/x-python",
   "name": "python",
   "nbconvert_exporter": "python",
   "pygments_lexer": "ipython2",
   "version": "2.7.9"
  }
 },
 "nbformat": 4,
 "nbformat_minor": 0
}
