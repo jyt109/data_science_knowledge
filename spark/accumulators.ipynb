{
 "cells": [
  {
   "cell_type": "code",
   "execution_count": 2,
   "metadata": {
    "collapsed": true
   },
   "outputs": [],
   "source": [
    "import pyspark as ps\n",
    "from pyspark.accumulators import AccumulatorParam\n",
    "from collections import Counter\n",
    "sc = ps.SparkContext('local[4]')"
   ]
  },
  {
   "cell_type": "markdown",
   "metadata": {},
   "source": [
    "##Part 1: Introduction to Accumulators\n",
    "\n",
    "###Uses\n",
    "- **Global variables (Accumulators) added to**\n",
    "- **By processing different partitions (in RDD)**\n",
    "\n",
    "<br>\n",
    "\n",
    "###Pros\n",
    "- **Faster** if multiple `map` / `reduce` used  on the same RDD\n",
    "- **Customizable adding function**\n",
    "\n",
    "<br>\n",
    "\n",
    "###Cons\n",
    "- **Accumulators stored in driver (Have to be small)**\n",
    "- **Usually a numeric value / dict / set**\n",
    "- Cannot access value of an accumulator while processing\n",
    "\n",
    "<br>"
   ]
  },
  {
   "cell_type": "markdown",
   "metadata": {},
   "source": [
    "###Question 1\n",
    "\n",
    "- Given an RDD, use accumulators to find the **sum of all the items** and the **sum of each item squared**. "
   ]
  },
  {
   "cell_type": "code",
   "execution_count": 5,
   "metadata": {
    "collapsed": false
   },
   "outputs": [
    {
     "name": "stdout",
     "output_type": "stream",
     "text": [
      "Sum of items: 499500\n",
      "Sum of squared items: 332833500\n"
     ]
    }
   ],
   "source": [
    "# Make an RDD with 1000 items from 0 to 999 with 5 partitions\n",
    "rdd = sc.parallelize(range(1000), 5)\n",
    "\n",
    "# Initialize 2 accumulators \n",
    "sum_acc = sc.accumulator(0) # For sum\n",
    "sum_prod_acc = sc.accumulator(0) # For sum of product\n",
    "\n",
    "# Function to update the accumulators\n",
    "def update_accs(item):\n",
    "    global sum_acc\n",
    "    global sum_prod_acc\n",
    "    \n",
    "    sum_acc.add(item)\n",
    "    sum_prod_acc.add(item ** 2)\n",
    "    \n",
    "\n",
    "# Use foreach (action) to update the accumulators\n",
    "rdd.foreach(update_accs)\n",
    "\n",
    "print 'Sum of items:', sum_acc.value\n",
    "print 'Sum of squared items:', sum_prod_acc.value"
   ]
  },
  {
   "cell_type": "markdown",
   "metadata": {},
   "source": [
    "###Question 2\n",
    "\n",
    "- **Without using accumulators**, produce the equivalent operations to get the results in `1.`. \n",
    "- Explain why accumulators are faster in this context."
   ]
  },
  {
   "cell_type": "code",
   "execution_count": null,
   "metadata": {
    "collapsed": true
   },
   "outputs": [],
   "source": []
  },
  {
   "cell_type": "markdown",
   "metadata": {},
   "source": [
    "<br>\n",
    "\n",
    "##Part 2: Customizing Accumulators\n",
    "\n",
    "###Uses\n",
    "- Adding to custom data type instead of just a number\n",
    "\n",
    "<br>\n"
   ]
  },
  {
   "cell_type": "markdown",
   "metadata": {},
   "source": [
    "###Question 1\n",
    "- Given an RDD of words, use an **accumulator to count the number of occurrence of each unique word**. "
   ]
  },
  {
   "cell_type": "code",
   "execution_count": null,
   "metadata": {
    "collapsed": true
   },
   "outputs": [],
   "source": []
  }
 ],
 "metadata": {
  "kernelspec": {
   "display_name": "Python 2",
   "language": "python",
   "name": "python2"
  },
  "language_info": {
   "codemirror_mode": {
    "name": "ipython",
    "version": 2
   },
   "file_extension": ".py",
   "mimetype": "text/x-python",
   "name": "python",
   "nbconvert_exporter": "python",
   "pygments_lexer": "ipython2",
   "version": "2.7.5"
  }
 },
 "nbformat": 4,
 "nbformat_minor": 0
}
