{
 "cells": [
  {
   "cell_type": "markdown",
   "metadata": {},
   "source": [
    "##Generative Classifier\n",
    "\n",
    "- Compute probability of a class given data\n",
    "- By specifying how to generate `x` given each class of `y`\n",
    "\n",
    "$$p( Y \\ | \\ X) = \\frac{p(X \\ | \\ Y) \\ p(Y)}{p(X)}$$"
   ]
  },
  {
   "cell_type": "markdown",
   "metadata": {},
   "source": [
    "##Discriminative Classifier\n",
    "\n",
    "- Compute probability of a class given data\n",
    "- By modeling the mapping from `x` to `y` directly\n",
    "- Discriminate different classes (y) based on data (x)\n",
    "- Instead of generating (x) for each class (y)"
   ]
  },
  {
   "cell_type": "code",
   "execution_count": null,
   "metadata": {
    "collapsed": true
   },
   "outputs": [],
   "source": []
  }
 ],
 "metadata": {
  "kernelspec": {
   "display_name": "Python 2",
   "language": "python",
   "name": "python2"
  },
  "language_info": {
   "codemirror_mode": {
    "name": "ipython",
    "version": 2
   },
   "file_extension": ".py",
   "mimetype": "text/x-python",
   "name": "python",
   "nbconvert_exporter": "python",
   "pygments_lexer": "ipython2",
   "version": "2.7.5"
  }
 },
 "nbformat": 4,
 "nbformat_minor": 0
}
