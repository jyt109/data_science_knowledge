{
 "cells": [
  {
   "cell_type": "markdown",
   "metadata": {},
   "source": [
    "#Logistic Regression\n",
    "\n",
    "- Models the probability of getting either outcome of a binary response (0/1)\n",
    "- **Linear classifier** since log odds of the response (Y) can be represented as a linear combination of features (X)\n",
    "\n",
    "Here we will cover the following:\n",
    "\n",
    "- **Logit Function**\n",
    "- **Interpretation of coefficients**\n",
    "- **Cost Function**\n",
    "- **Multiple Logistic Regression**\n",
    "\n",
    "<br>"
   ]
  },
  {
   "cell_type": "markdown",
   "metadata": {},
   "source": [
    "##Logit Function\n",
    "\n",
    "- **Probability of getting a 1 / 0 given data in terms of the logit function**\n",
    "\n",
    "$$p(Y=1 \\ | \\ X) = \\frac{1}{1 + e^{-w^TX}}$$\n",
    "\n",
    "$$p(Y=0 \\ | \\ X) = 1- p(Y=1 \\ | \\ X) = \\frac{e^{-w^TX}}{1 + e^{-w^TX}}$$\n",
    "\n",
    "<br>\n",
    "\n",
    "- **\"S\" shape of the logit function makes it appropriate to model the probability of a binary target**\n",
    "\n",
    "    - The closer the feature values is to the decision boundary of the response classes (red dotted line below)\n",
    "    - The more sensitive the probability of getting a 1/0 is to changes to the feature values\n",
    "    - Make intuitive sense since small changes in features near the decision boundary could shift the decision from 0 to 1 and vice versa\n",
    "\n",
    "<br>\n",
    "\n",
    "- **Plot of the logit function**"
   ]
  },
  {
   "cell_type": "code",
   "execution_count": 1,
   "metadata": {
    "collapsed": false
   },
   "outputs": [
    {
     "data": {
      "image/png": "[encoded data removed]",
      "text/plain": [
       "<matplotlib.figure.Figure at 0x108649890>"
      ]
     },
     "metadata": {},
     "output_type": "display_data"
    }
   ],
   "source": [
    "import scipy\n",
    "import matplotlib.pyplot as plt\n",
    "%matplotlib inline\n",
    "import numpy as np\n",
    "\n",
    "def logit_1(wx):\n",
    "    return 1 / (1 + np.exp(-wx))\n",
    "\n",
    "def logit_0(wx):\n",
    "    return np.exp(-wx) / (1 + np.exp(-wx))\n",
    "\n",
    "\n",
    "fig, (ax1, ax2) = plt.subplots(1, 2, figsize=(12, 4))\n",
    "wx = np.linspace(-6, 6, 100)\n",
    "# P(Y=1 | X)\n",
    "y1 = logit_1(wx)\n",
    "ax1.plot(wx, y1)\n",
    "ax1.set_xlabel('$w^Tx$', fontsize=20)\n",
    "ax1.set_ylabel('$p(y=1 | x)$', fontsize=20)\n",
    "ax1.axvline(x=0, c='r', ls='--')\n",
    "# P(Y=0 | X)\n",
    "y0 = logit_0(wx)\n",
    "ax2.plot(wx, y0)\n",
    "ax2.set_xlabel('$w^Tx$', fontsize=20)\n",
    "ax2.set_ylabel('$p(y=0 | x)$', fontsize=20)\n",
    "ax2.axvline(x=0, c='r', ls='--');"
   ]
  },
  {
   "cell_type": "markdown",
   "metadata": {},
   "source": [
    "##Interpretation of coefficients\n",
    "\n",
    "- **Unlike linear regression, coefficients from logistic regression cannot be interpreted directly**\n",
    "    - Probability of getting a response is **not** a linear combination of the coefficients and features\n",
    "\n",
    "  <br>  \n",
    "\n",
    "- **Example below shows how to interpret the coefficients**\n",
    "\n",
    "    Consider modeling the probability of getting lung cancer with 2 variables: \n",
    "    - Number of cigarette smoked per day ($X_1$)\n",
    "    - Number of minutes of exercise per day ($X_2$)\n",
    "\n",
    "    $$p(Y=1 \\ | \\ X) = \\frac{1}{1 + e^{-(\\beta_1X_1 + \\beta_2X_2 + \\epsilon)}}$$\n",
    "\n",
    "    $$p(Y=1 \\ | \\ X) +  p(Y=1 \\ | \\ X)e^{-(\\beta_1X_1 + \\beta_2X_2 + \\epsilon)} = 1$$\n",
    "\n",
    "    $$-(\\beta_1X_1 + \\beta_2X_2 + \\epsilon) = log(\\frac{1 - p(Y=1 \\ | \\ X)}{p(Y=1 \\ | \\ X)})$$\n",
    "\n",
    "    $$\\beta_1X_1 + \\beta_2X_2 + \\epsilon = log(\\frac{p(Y=1 \\ | \\ X)}{1 - p(Y=1 \\ | \\ X)})$$\n",
    "\n",
    "    $$e^{\\beta_1X_1 + \\beta_2X_2 + \\epsilon} = \\frac{p(Y=1 \\ | \\ X)}{1 - p(Y=1 \\ | \\ X)}$$\n",
    "\n",
    "    <br>\n",
    "\n",
    "    - If $\\beta_1 = 1.3$, the odds of getting lung cancer increases by **a factor of**  $e^{1.3}$ for every extra cigarette you smoke a day\n",
    "\n",
    "    - So the increase of odds of getting lung cancer is **different by increasing from 3 to 4 cigarettes compared to increasing from 10 to 11**"
   ]
  },
  {
   "cell_type": "markdown",
   "metadata": {},
   "source": [
    "##Cost Function\n",
    "\n",
    "- Quantifies the error between the fitted model and the data\n",
    "  - The lower the cost, the less error between the fitted model and the data\n",
    "  - At the lowest cost of a given model exists the coefficients (weights) that gives us the best fit to the data\n",
    "  - Therefore, the object is to **find the lowest cost**\n",
    "\n",
    "  <br>\n",
    "\n",
    "- The cost function for logistic regression is **negative likeliehood (NL)**\n",
    "  \n",
    "  - Negative likelihood penalizes uncertain / wrong prediction\n",
    "  - **Uncertain prediction** such as 0.5\n",
    "  - **Wrong prediction** such as prediction 1.0 for the response 1 when the response is 0\n",
    "  - Formula for **negative likelihood**\n",
    " \n",
    "  \n",
    "  $$NL(\\beta) = - \\prod_{i=1}^n p(y_i=1 \\ | \\ x_i)^{y_i} p(y_i=0 \\ | \\ x_i)^{1-y_i}$$\n",
    "\n",
    "\n",
    "- **In practice, negative log likelihood (NLL) is used**\n",
    "  - Taking the product of a large number of fractions leads to numeric underflow\n",
    "  - Taking the log of the negative likelihood solves the problem\n",
    "  - Also known as cross entropy\n",
    "  - Formula for **negative log likelihood**\n",
    "  \n",
    "  $$NLL(\\beta) = \\sum_{i=1}^{n} y_i log(p(y_i=1 \\ | \\ x_i)) + (1-y_i)log(p(y_i=0 \\ | \\ x_i))$$"
   ]
  },
  {
   "cell_type": "markdown",
   "metadata": {},
   "source": [
    "##Multiple Logisitic Regression\n",
    "\n",
    "- Also known as softmax regression"
   ]
  },
  {
   "cell_type": "code",
   "execution_count": null,
   "metadata": {
    "collapsed": true
   },
   "outputs": [],
   "source": []
  }
 ],
 "metadata": {
  "kernelspec": {
   "display_name": "Python 2",
   "language": "python",
   "name": "python2"
  },
  "language_info": {
   "codemirror_mode": {
    "name": "ipython",
    "version": 2
   },
   "file_extension": ".py",
   "mimetype": "text/x-python",
   "name": "python",
   "nbconvert_exporter": "python",
   "pygments_lexer": "ipython2",
   "version": "2.7.5"
  }
 },
 "nbformat": 4,
 "nbformat_minor": 0
}
