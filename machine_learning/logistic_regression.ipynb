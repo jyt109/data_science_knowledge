{
 "cells": [
  {
   "cell_type": "markdown",
   "metadata": {},
   "source": [
    "##Logistic Function\n",
    "\n",
    "- Used to model categorical outcome based on categorical / continuous features\n",
    "- Model categorical outcome (1/0) as a continuous probability\n",
    "- Predicted probability > 0.5 will be classed as outcome 1, and vice versa\n",
    "\n",
    "<br>\n",
    "\n",
    "$$p(Y=1 \\ | \\ X) = \\frac{1}{1 + e^{-w^TX}}$$\n",
    "\n",
    "$$p(Y=0 \\ | \\ X) = 1- p(Y=1 \\ | \\ X) = \\frac{e^{-w^TX}}{1 + e^{-w^TX}}$$\n",
    "\n"
   ]
  },
  {
   "cell_type": "code",
   "execution_count": 9,
   "metadata": {
    "collapsed": false
   },
   "outputs": [
    {
     "data": {
      "text/plain": [
       "<matplotlib.lines.Line2D at 0x10a4a7150>"
      ]
     },
     "execution_count": 9,
     "metadata": {},
     "output_type": "execute_result"
    },
    {
     "data": {
      "image/png": "[encoded data removed]",
      "text/plain": [
       "<matplotlib.figure.Figure at 0x10a3f9190>"
      ]
     },
     "metadata": {},
     "output_type": "display_data"
    }
   ],
   "source": [
    "import scipy\n",
    "import matplotlib.pyplot as plt\n",
    "%matplotlib inline\n",
    "import numpy as np\n",
    "\n",
    "def logit(wx):\n",
    "    return 1 / (1 + np.exp(-wx))\n",
    "\n",
    "wx = np.linspace(-6, 6, 100)\n",
    "y = logit(wx)\n",
    "plt.plot(wx, y)\n",
    "plt.xlabel('$w^Tx$', fontsize=20)\n",
    "plt.ylabel('$p(y=1 | x)$', fontsize=20)\n",
    "plt.axvline(x=0, c='r', ls='--')"
   ]
  },
  {
   "cell_type": "markdown",
   "metadata": {},
   "source": [
    "##Interpretation\n",
    "\n",
    "Consider modeling the probability of getting lung cancer with 2 variables: \n",
    "- Number of cigarette smoked per day ($X_1$)\n",
    "- Number of minutes of exercise per day ($X_2$)\n",
    "\n",
    "$$p(Y=1 \\ | \\ X) = \\frac{1}{1 + e^{-(\\beta_1X_1 + \\beta_2X_2 + \\epsilon)}}$$\n",
    "\n",
    "$$p(Y=1 \\ | \\ X) +  p(Y=1 \\ | \\ X)e^{-(\\beta_1X_1 + \\beta_2X_2 + \\epsilon)} = 1$$\n",
    "\n",
    "$$-(\\beta_1X_1 + \\beta_2X_2 + \\epsilon) = log(\\frac{1 - p(Y=1 \\ | \\ X)}{p(Y=1 \\ | \\ X)})$$\n",
    "\n",
    "$$\\beta_1X_1 + \\beta_2X_2 + \\epsilon = log(\\frac{p(Y=1 \\ | \\ X)}{1 - p(Y=1 \\ | \\ X)})$$\n",
    "\n",
    "$$e^{\\beta_1X_1 + \\beta_2X_2 + \\epsilon} = \\frac{p(Y=1 \\ | \\ X)}{1 - p(Y=1 \\ | \\ X)}$$\n",
    "\n",
    "\n",
    "If $\\beta_1 = 1.3$, the odds of getting lung cancer increases by **a factor of**  $e^{1.3}$ for every extra cigarette you smoke a day\n",
    "\n",
    "So the increase of odds of getting lung cancer is **different by increasing from 3 to 4 cigarettes compared to increasing from 10 to 11**"
   ]
  },
  {
   "cell_type": "markdown",
   "metadata": {},
   "source": [
    "##Likelihood\n",
    "\n",
    "- Likelihood of the set of $\\beta$ specified in the model predicting all the data points correctly\n",
    "\n",
    "$$L(\\beta) = \\prod_{i=1}^n p(y_i=1 \\ | \\ x_i)^{y_i} p(y_i=0 \\ | \\ x_i)^{1-y_i}$$\n",
    "\n",
    "- This will be a small number with a lot of data points as one would image\n",
    "- Would suffer from numerical underflow"
   ]
  },
  {
   "cell_type": "markdown",
   "metadata": {},
   "source": [
    "##Negative log likelihood\n",
    "\n",
    "- Since likelihood suffers from numerical underflow, we take the log and multiplication becomes addition\n",
    "- We also take the negative, so we can minimizing instead of maximizing the log likelihood\n",
    "- Also known as **cross entropy function**\n",
    "\n",
    "$$NLL(\\beta) = \\sum_{i=1}^{n} y_i log(p(y_i=1 \\ | \\ x_i)) + (1-y_i)p(y_i=0 \\ | \\ x_i)$$"
   ]
  },
  {
   "cell_type": "code",
   "execution_count": null,
   "metadata": {
    "collapsed": true
   },
   "outputs": [],
   "source": []
  }
 ],
 "metadata": {
  "kernelspec": {
   "display_name": "Python 2",
   "language": "python",
   "name": "python2"
  },
  "language_info": {
   "codemirror_mode": {
    "name": "ipython",
    "version": 2
   },
   "file_extension": ".py",
   "mimetype": "text/x-python",
   "name": "python",
   "nbconvert_exporter": "python",
   "pygments_lexer": "ipython2",
   "version": "2.7.5"
  }
 },
 "nbformat": 4,
 "nbformat_minor": 0
}
