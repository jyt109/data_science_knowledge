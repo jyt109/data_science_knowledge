{
 "cells": [
  {
   "cell_type": "markdown",
   "metadata": {},
   "source": [
    "##Direct Acyclic Graph (DAG) graph\n",
    "- Directed graph\n",
    "- No directed cycle in the graph\n",
    "- Useful in representing information that flow in one direction\n",
    "\n",
    "<br>\n",
    "Here we will be implementing the simplest DAG graph."
   ]
  },
  {
   "cell_type": "code",
   "execution_count": 2,
   "metadata": {
    "collapsed": true
   },
   "outputs": [],
   "source": [
    "from collections import defaultdict"
   ]
  },
  {
   "cell_type": "markdown",
   "metadata": {},
   "source": [
    "- **The `Node` Class**"
   ]
  },
  {
   "cell_type": "code",
   "execution_count": 1,
   "metadata": {
    "collapsed": true
   },
   "outputs": [],
   "source": [
    "class Node(object):\n",
    "    def __init__(self, name):\n",
    "        self.name = name\n",
    "    "
   ]
  },
  {
   "cell_type": "markdown",
   "metadata": {},
   "source": [
    "- **The `Graph` Class**"
   ]
  },
  {
   "cell_type": "code",
   "execution_count": 5,
   "metadata": {
    "collapsed": true
   },
   "outputs": [],
   "source": [
    "class Graph(object):\n",
    "    def __init__(self):\n",
    "        self.adjancency_list_dict = defaultdict(list)\n",
    "        self.name2node = {}\n",
    "        \n",
    "    def add_edge(self, from_node, to_node):\n",
    "        if type(from_node) == str and type(to_node) == str:\n",
    "            from_node = Node(from_node)\n",
    "            to_node = Node(to_node)\n",
    "        elif type(from_node) == Node and type(to_node) == Node:\n",
    "            pass\n",
    "        else:\n",
    "            raise Exception(\"Must input either names of nodes or Node instances\")\n",
    "        \n",
    "        self.add_node(from_node)\n",
    "        self.add_node(to_node)\n",
    "        self.adjancency_list_dict[from_node].append(to_node)\n",
    "    \n",
    "    def add_node(self, node):\n",
    "        if type(node) == str:\n",
    "            node = Node(node)\n",
    "        elif type(node) == Node:\n",
    "            pass\n",
    "        else:\n",
    "            raise Exception(\"Must input either name of node or an Node instance\")\n",
    "        self.name2node[node.name] = node\n",
    "        "
   ]
  },
  {
   "cell_type": "code",
   "execution_count": 6,
   "metadata": {
    "collapsed": false
   },
   "outputs": [],
   "source": [
    "graph = Graph()\n",
    "graph.add_edge(\"a\", \"b\")\n",
    "graph.add_edge(\"b\", \"c\")\n",
    "graph.add_edge(\"d\", \"b\")\n",
    "graph.add_edge(\"e\", \"a\")"
   ]
  },
  {
   "cell_type": "code",
   "execution_count": 7,
   "metadata": {
    "collapsed": false
   },
   "outputs": [
    {
     "data": {
      "text/plain": [
       "defaultdict(<type 'list'>, {<__main__.Node object at 0x11045fc10>: [<__main__.Node object at 0x11045fbd0>], <__main__.Node object at 0x11045fd50>: [<__main__.Node object at 0x11045fd10>], <__main__.Node object at 0x11045fb50>: [<__main__.Node object at 0x11045fc50>], <__main__.Node object at 0x11045fcd0>: [<__main__.Node object at 0x11045fc90>]})"
      ]
     },
     "execution_count": 7,
     "metadata": {},
     "output_type": "execute_result"
    }
   ],
   "source": [
    "graph.adjancency_list_dict\n"
   ]
  },
  {
   "cell_type": "code",
   "execution_count": null,
   "metadata": {
    "collapsed": true
   },
   "outputs": [],
   "source": []
  }
 ],
 "metadata": {
  "kernelspec": {
   "display_name": "Python 2",
   "language": "python",
   "name": "python2"
  },
  "language_info": {
   "codemirror_mode": {
    "name": "ipython",
    "version": 2
   },
   "file_extension": ".py",
   "mimetype": "text/x-python",
   "name": "python",
   "nbconvert_exporter": "python",
   "pygments_lexer": "ipython2",
   "version": "2.7.5"
  }
 },
 "nbformat": 4,
 "nbformat_minor": 0
}
