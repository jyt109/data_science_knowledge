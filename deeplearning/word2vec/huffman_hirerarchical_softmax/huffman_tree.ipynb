{
 "cells": [
  {
   "cell_type": "markdown",
   "metadata": {},
   "source": [
    "**Huffman Tree Intro**\n",
    "\n",
    "- Given symbols and associated weights\n",
    "- Compressed storage as a binary tree\n",
    "- Higher weighted symbols have fewer bits\n",
    "- Each bit represents a decision down the tree\n",
    "\n",
    "<br>\n",
    "\n",
    "![image](images/huffman_example.png)"
   ]
  },
  {
   "cell_type": "markdown",
   "metadata": {},
   "source": [
    "**Priority Queue Intro**\n",
    "- Lower value items have higher priority and are retrieved first\n"
   ]
  },
  {
   "cell_type": "code",
   "execution_count": 1,
   "metadata": {
    "collapsed": false
   },
   "outputs": [],
   "source": [
    "from Queue import PriorityQueue\n",
    "\n",
    "pq = PriorityQueue()\n",
    "pq.put(.2)\n",
    "pq.put(.05)\n",
    "pq.put(.4)\n",
    "pq.put(.35)"
   ]
  },
  {
   "cell_type": "code",
   "execution_count": 2,
   "metadata": {
    "collapsed": false
   },
   "outputs": [
    {
     "name": "stdout",
     "output_type": "stream",
     "text": [
      "0.05\n",
      "0.2\n",
      "0.35\n",
      "0.4\n"
     ]
    }
   ],
   "source": [
    "while pq.qsize() > 0:\n",
    "    print pq.get()"
   ]
  },
  {
   "cell_type": "markdown",
   "metadata": {},
   "source": [
    "**Huffman Tree Implementation**\n",
    "- Create a Node class and make every item a Node with `name` and `weight`\n",
    "- Put all nodes in a priority queue\n",
    "- While queue is not empty\n",
    "    - Pop two elements (`N1` and `N2`) from queue\n",
    "    - Assign a new node with childrean `N1` and `N2`\n",
    "    - Assign new node weight to be sum of `N1` and `N2`"
   ]
  },
  {
   "cell_type": "code",
   "execution_count": 3,
   "metadata": {
    "collapsed": false
   },
   "outputs": [],
   "source": [
    "# For plotting Trees\n",
    "import pydot\n",
    "from skimage import io\n",
    "import matplotlib.pyplot as plt\n",
    "from IPython.display import Image\n",
    "%matplotlib inline"
   ]
  },
  {
   "cell_type": "code",
   "execution_count": 4,
   "metadata": {
    "collapsed": true
   },
   "outputs": [],
   "source": [
    "class Node(object):\n",
    "    def __init__(self, name, weight):\n",
    "        self.name = name\n",
    "        self.weight = weight\n",
    "        self.left = None\n",
    "        self.right = None\n",
    "        \n",
    "    def __cmp__(self, node):\n",
    "        return cmp(self.weight, node.weight)"
   ]
  },
  {
   "cell_type": "code",
   "execution_count": 5,
   "metadata": {
    "collapsed": true
   },
   "outputs": [],
   "source": [
    "def dict2queue(d, q=None):\n",
    "    if q is None:\n",
    "        q = PriorityQueue()\n",
    "    for name, weight in d.iteritems():\n",
    "        node = Node(name, weight)\n",
    "        q.put(node)\n",
    "    return q"
   ]
  },
  {
   "cell_type": "code",
   "execution_count": 6,
   "metadata": {
    "collapsed": false
   },
   "outputs": [],
   "source": [
    "def build_tree(q):\n",
    "    while q.qsize() > 1:\n",
    "        item1 = q.get()\n",
    "        item2 = q.get()\n",
    "        parent = Node(None, item1.weight + item2.weight)\n",
    "        parent.left = item1\n",
    "        parent.right = item2\n",
    "        q.put(parent)\n",
    "    return q.get()"
   ]
  },
  {
   "cell_type": "code",
   "execution_count": 7,
   "metadata": {
    "collapsed": true
   },
   "outputs": [],
   "source": [
    "def build_code(root_node):\n",
    "    codes = {}\n",
    "    graph = pydot.Dot(graph_type='digraph')\n",
    "    \n",
    "    def traverse_tree(node, prefix=''):\n",
    "        if node.name:\n",
    "            codes[node.name] = prefix\n",
    "        else:\n",
    "            edge = pydot.Edge(str(node.weight), str(node.left.weight), label='0')\n",
    "            edge2 = pydot.Edge(str(node.weight), str(node.right.weight), label='1')\n",
    "            graph.add_edge(edge)\n",
    "            graph.add_edge(edge2)\n",
    "            traverse_tree(node.right, prefix + '1')\n",
    "            traverse_tree(node.left, prefix + '0')\n",
    "            \n",
    "    traverse_tree(root_node)\n",
    "    graph_fname = 'images/graph.png'\n",
    "    graph.write_png(graph_fname)\n",
    "    plt.show()\n",
    "    return codes, graph_fname"
   ]
  },
  {
   "cell_type": "code",
   "execution_count": 8,
   "metadata": {
    "collapsed": false
   },
   "outputs": [
    {
     "data": {
      "image/png": "[encoded data removed]",
      "text/plain": [
       "<IPython.core.display.Image object>"
      ]
     },
     "execution_count": 8,
     "metadata": {},
     "output_type": "execute_result"
    }
   ],
   "source": [
    "d = {'a1': .4, 'a2': .35, 'a3': .2, 'a4': .05}\n",
    "q = dict2queue(d)\n",
    "root_node = build_tree(q)\n",
    "codes, graph_fname = build_code(root_node)\n",
    "Image(graph_fname)"
   ]
  },
  {
   "cell_type": "code",
   "execution_count": 9,
   "metadata": {
    "collapsed": false
   },
   "outputs": [
    {
     "data": {
      "text/plain": [
       "{'a1': '0', 'a2': '11', 'a3': '101', 'a4': '100'}"
      ]
     },
     "execution_count": 9,
     "metadata": {},
     "output_type": "execute_result"
    }
   ],
   "source": [
    "codes"
   ]
  }
 ],
 "metadata": {
  "kernelspec": {
   "display_name": "Python 2",
   "language": "python",
   "name": "python2"
  },
  "language_info": {
   "codemirror_mode": {
    "name": "ipython",
    "version": 2
   },
   "file_extension": ".py",
   "mimetype": "text/x-python",
   "name": "python",
   "nbconvert_exporter": "python",
   "pygments_lexer": "ipython2",
   "version": "2.7.5"
  }
 },
 "nbformat": 4,
 "nbformat_minor": 0
}
