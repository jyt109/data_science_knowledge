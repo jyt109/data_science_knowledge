{
 "cells": [
  {
   "cell_type": "code",
   "execution_count": 1,
   "metadata": {
    "collapsed": true
   },
   "outputs": [],
   "source": [
    "import gensim"
   ]
  },
  {
   "cell_type": "markdown",
   "metadata": {},
   "source": [
    "- **Define an iterator that yields a line of the document per iteration**\n",
    "    - You need an iterator if the document has a lot of lines and you don't want to load them all in at once"
   ]
  },
  {
   "cell_type": "code",
   "execution_count": 2,
   "metadata": {
    "collapsed": false
   },
   "outputs": [],
   "source": [
    "class MySentences(object):\n",
    "    def __init__(self, fname):\n",
    "        self.fname = fname\n",
    "    \n",
    "    def __iter__(self):\n",
    "        for line in open(self.fname):\n",
    "            yield line.split()"
   ]
  },
  {
   "cell_type": "code",
   "execution_count": 3,
   "metadata": {
    "collapsed": true
   },
   "outputs": [],
   "source": [
    "line_iterator = MySentences('raw_sentences.txt')"
   ]
  },
  {
   "cell_type": "markdown",
   "metadata": {},
   "source": [
    "- **Print the first few lines of the document**"
   ]
  },
  {
   "cell_type": "code",
   "execution_count": 4,
   "metadata": {
    "collapsed": false
   },
   "outputs": [
    {
     "name": "stdout",
     "output_type": "stream",
     "text": [
      "['No', ',', 'he', 'says', 'now', '.']\n",
      "['And', 'what', 'did', 'he', 'do', '?']\n",
      "['The', 'money', \"'s\", 'there', '.']\n",
      "['That', 'was', 'less', 'than', 'a', 'year', 'ago', '.']\n"
     ]
    }
   ],
   "source": [
    "line_iterator2 = MySentences('raw_sentences.txt')\n",
    "for i, line in enumerate(line_iterator2):\n",
    "    if i > 3:\n",
    "        break\n",
    "    print line"
   ]
  },
  {
   "cell_type": "markdown",
   "metadata": {},
   "source": [
    "- **Train a word2vec model**\n",
    "    - `sg=1` means skip-gram is used\n",
    "    - `workers=4` means use 4 cores\n",
    "    - `size=100` means the layer is of size 100"
   ]
  },
  {
   "cell_type": "code",
   "execution_count": 5,
   "metadata": {
    "collapsed": false
   },
   "outputs": [],
   "source": [
    "model = gensim.models.Word2Vec(sentences=line_iterator, size=100, min_count=1, sg=1, seed=42, workers=4)"
   ]
  },
  {
   "cell_type": "code",
   "execution_count": 6,
   "metadata": {
    "collapsed": false
   },
   "outputs": [
    {
     "data": {
      "text/plain": [
       "[('night', 0.7678823471069336),\n",
       " ('week', 0.7082931995391846),\n",
       " ('game', 0.6180382966995239),\n",
       " ('off', 0.6046181917190552),\n",
       " ('year', 0.5973228216171265),\n",
       " ('season', 0.5598467588424683),\n",
       " ('May', 0.49268007278442383),\n",
       " ('high', 0.49100393056869507),\n",
       " ('On', 0.4818994104862213),\n",
       " ('department', 0.4555158019065857)]"
      ]
     },
     "execution_count": 6,
     "metadata": {},
     "output_type": "execute_result"
    }
   ],
   "source": [
    "model.most_similar(positive=['day'])"
   ]
  }
 ],
 "metadata": {
  "kernelspec": {
   "display_name": "Python 2",
   "language": "python",
   "name": "python2"
  },
  "language_info": {
   "codemirror_mode": {
    "name": "ipython",
    "version": 2
   },
   "file_extension": ".py",
   "mimetype": "text/x-python",
   "name": "python",
   "nbconvert_exporter": "python",
   "pygments_lexer": "ipython2",
   "version": "2.7.5"
  }
 },
 "nbformat": 4,
 "nbformat_minor": 0
}
