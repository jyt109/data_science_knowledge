{
 "cells": [
  {
   "cell_type": "code",
   "execution_count": 1,
   "metadata": {
    "collapsed": false
   },
   "outputs": [],
   "source": [
    "import subprocess\n",
    "import caffe\n",
    "caffe.set_mode_cpu()\n",
    "import numpy as np\n",
    "import pandas as pd\n",
    "import h5py\n",
    "import shutil\n",
    "from sklearn.cross_validation import StratifiedShuffleSplit\n",
    "from sklearn.preprocessing import StandardScaler"
   ]
  },
  {
   "cell_type": "markdown",
   "metadata": {},
   "source": [
    "##Work Flow\n",
    "\n",
    "###1. Prepare Data\n",
    "###2. Train and Evaluate Model\n",
    "###3. Load Serialized Model and Predict \n",
    "\n",
    "<br>"
   ]
  },
  {
   "cell_type": "markdown",
   "metadata": {},
   "source": [
    "##Part 1: Prepare Data "
   ]
  },
  {
   "cell_type": "markdown",
   "metadata": {},
   "source": [
    "- **Read in the data and cast as float32**"
   ]
  },
  {
   "cell_type": "code",
   "execution_count": 2,
   "metadata": {
    "collapsed": true
   },
   "outputs": [],
   "source": [
    "df = pd.read_csv('data/iris.dat', header=None)\n",
    "\n",
    "label = df.pop(4).values[:, np.newaxis].astype('float32')\n",
    "data = df.values.astype('float32')"
   ]
  },
  {
   "cell_type": "markdown",
   "metadata": {},
   "source": [
    "- **Shuffle and do train-test split on iris data**\n",
    "- **Scale the train and test data (both according to the train data)**"
   ]
  },
  {
   "cell_type": "code",
   "execution_count": 3,
   "metadata": {
    "collapsed": false
   },
   "outputs": [],
   "source": [
    "def scale_train_test(data_train, data_test):\n",
    "    scaler = StandardScaler().fit(data_train)\n",
    "    scaled_data_train = scaler.transform(data_train)\n",
    "    scaled_data_test = scaler.transform(data_test)\n",
    "    return scaled_data_train, scaled_data_test\n",
    "\n",
    "def shuffle_train_test_split(data, label, test_size=0.3, rs=42):\n",
    "    sss = StratifiedShuffleSplit(label, 1, \n",
    "                                 test_size=test_size,\n",
    "                                 random_state=rs)\n",
    "    sss = list(sss)[0]\n",
    "    data_train = data[sss[0],]\n",
    "    label_train = label[sss[0],]\n",
    "\n",
    "    data_test = data[sss[1],]\n",
    "    label_test = label[sss[1],]\n",
    "    \n",
    "    scaled_data_train, scaled_data_test = scale_train_test(data_train, data_test)\n",
    "    \n",
    "    return scaled_data_train, label_train, scaled_data_test, label_test  "
   ]
  },
  {
   "cell_type": "code",
   "execution_count": 4,
   "metadata": {
    "collapsed": false
   },
   "outputs": [],
   "source": [
    "data_train, label_train, data_test, label_test = \\\n",
    "                shuffle_train_test_split(data, label)"
   ]
  },
  {
   "cell_type": "code",
   "execution_count": null,
   "metadata": {
    "collapsed": true
   },
   "outputs": [],
   "source": [
    "print 'Number of Train samples:', data_train.shape[0]\n",
    "print 'Number of Test samples:', data_test.shape[0]"
   ]
  },
  {
   "cell_type": "markdown",
   "metadata": {},
   "source": [
    "- **Store data and label as HDF5**\n",
    "  - Here the dataset is small and it is more convenient to store as HDF5"
   ]
  },
  {
   "cell_type": "code",
   "execution_count": 6,
   "metadata": {
    "collapsed": false
   },
   "outputs": [],
   "source": [
    "def make_hdf5(data, label, test_train):\n",
    "    hdf5_fname = 'data/%s_iris.h5' % test_train\n",
    "    hdf5_fname_lst = 'data/%s.list' % test_train\n",
    "\n",
    "    with h5py.File(hdf5_fname, 'w') as f:\n",
    "        f['data'] = data\n",
    "        f['label'] = label\n",
    "    \n",
    "    with open(hdf5_fname_lst, 'w') as f:\n",
    "        f.write(hdf5_fname)"
   ]
  },
  {
   "cell_type": "code",
   "execution_count": 7,
   "metadata": {
    "collapsed": false
   },
   "outputs": [],
   "source": [
    "make_hdf5(data_train, label_train, 'train')\n",
    "make_hdf5(data_test, label_test, 'test')"
   ]
  },
  {
   "cell_type": "markdown",
   "metadata": {},
   "source": [
    "<br>\n",
    "\n",
    "##Part 2: Train and Evaluate Model"
   ]
  },
  {
   "cell_type": "markdown",
   "metadata": {},
   "source": [
    "- **Write solver file**\n",
    "  - The solver file contains all the hyperparameters necessary to train the model"
   ]
  },
  {
   "cell_type": "code",
   "execution_count": 8,
   "metadata": {
    "collapsed": false
   },
   "outputs": [
    {
     "name": "stdout",
     "output_type": "stream",
     "text": [
      "Writing model_spec/solver.prototxt\n"
     ]
    }
   ],
   "source": [
    "%%writefile model_spec/solver.prototxt\n",
    "test_iter: 1000\n",
    "test_interval: 1000\n",
    "base_lr: 0.01\n",
    "display: 5\n",
    "max_iter: 1000\n",
    "lr_policy: \"inv\"\n",
    "gamma: 0.0001\n",
    "power: 0.75\n",
    "momentum: 0.9\n",
    "weight_decay: 0.0005\n",
    "solver_mode: CPU\n",
    "snapshot_prefix: \"iris_logit\" # Write to the model directory\n",
    "net: \"model_spec/net.prototxt\""
   ]
  },
  {
   "cell_type": "markdown",
   "metadata": {},
   "source": [
    "- **Write network file**\n",
    "  - The network file specifies the architecture of the neural net\n",
    "  - Also how the data is channelled through the model in the training and testing (evaluation) stages"
   ]
  },
  {
   "cell_type": "code",
   "execution_count": 9,
   "metadata": {
    "collapsed": false
   },
   "outputs": [
    {
     "name": "stdout",
     "output_type": "stream",
     "text": [
      "Writing model_spec/net.prototxt\n"
     ]
    }
   ],
   "source": [
    "%%writefile model_spec/net.prototxt\n",
    "name: \"LogisticRegressionNet\"\n",
    "layer {\n",
    "  name: \"data\"\n",
    "  type: \"HDF5Data\"\n",
    "  top: \"data\"\n",
    "  top: \"label\"\n",
    "  include {\n",
    "    phase: TRAIN\n",
    "  }\n",
    "  hdf5_data_param {\n",
    "    source: \"data/train.list\"\n",
    "    batch_size: 105\n",
    "  }\n",
    "}\n",
    "layer {\n",
    "  name: \"data\"\n",
    "  type: \"HDF5Data\"\n",
    "  top: \"data\"\n",
    "  top: \"label\"\n",
    "  include {\n",
    "    phase: TEST\n",
    "  }\n",
    "  hdf5_data_param {\n",
    "    source: \"data/test.list\"\n",
    "    batch_size: 45\n",
    "  }\n",
    "}\n",
    "layer {\n",
    "  name: \"fc1\"\n",
    "  type: \"InnerProduct\"\n",
    "  bottom: \"data\"\n",
    "  top: \"fc1\"\n",
    "  param {\n",
    "    lr_mult: 1\n",
    "    decay_mult: 1\n",
    "  }\n",
    "  param {\n",
    "    lr_mult: 2\n",
    "    decay_mult: 0\n",
    "  }\n",
    "  inner_product_param {\n",
    "    num_output: 3\n",
    "    weight_filler {\n",
    "      type: \"gaussian\"\n",
    "      std: 0.01\n",
    "    }\n",
    "    bias_filler {\n",
    "      type: \"constant\"\n",
    "      value: 0\n",
    "    }\n",
    "  }\n",
    "}\n",
    "layer {\n",
    "  name: \"loss\"\n",
    "  type: \"SoftmaxWithLoss\"\n",
    "  bottom: \"fc1\"\n",
    "  bottom: \"label\"\n",
    "  top: \"loss\"\n",
    "}\n",
    "layer {\n",
    "  name: \"accuracy\"\n",
    "  type: \"Accuracy\"\n",
    "  bottom: \"fc1\"\n",
    "  bottom: \"label\"\n",
    "  top: \"accuracy\"\n",
    "  include {\n",
    "    phase: TEST\n",
    "  }\n",
    "}"
   ]
  },
  {
   "cell_type": "markdown",
   "metadata": {},
   "source": [
    "- **Plot the network configuration**\n",
    "  - This provides a good way to know if you have specified the network file correctly\n",
    "  - Requires `pydot` and `pyparsing`\n",
    "  \n",
    "    ```bash\n",
    "    pip uninstall pyparsing\n",
    "    pip install -Iv https://pypi.python.org/packages/source/p/pyparsing/pyparsing-1.5.7.tar.gz#md5=9be0fcdcc595199c646ab317c1d9a709\n",
    "    pip install pydot\n",
    "    ```"
   ]
  },
  {
   "cell_type": "code",
   "execution_count": 10,
   "metadata": {
    "collapsed": true
   },
   "outputs": [],
   "source": [
    "def draw_dag(net_fname): \n",
    "\n",
    "    from google.protobuf import text_format\n",
    "    from caffe.draw import get_pydot_graph\n",
    "    from caffe.proto import caffe_pb2\n",
    "    from IPython.display import display, Image \n",
    "\n",
    "    net = caffe_pb2.NetParameter()\n",
    "    f = open(net_fname)\n",
    "    text_format.Merge(f.read(), net)\n",
    "    display(Image(get_pydot_graph(net,\"TB\").create_png()))"
   ]
  },
  {
   "cell_type": "code",
   "execution_count": 11,
   "metadata": {
    "collapsed": false
   },
   "outputs": [
    {
     "data": {
      "image/png": "[encoded data removed]",
      "text/plain": [
       "<IPython.core.display.Image object>"
      ]
     },
     "metadata": {},
     "output_type": "display_data"
    }
   ],
   "source": [
    "draw_dag(\"model_spec/net.prototxt\")"
   ]
  },
  {
   "cell_type": "markdown",
   "metadata": {},
   "source": [
    "- **Fit and then evaluate the accuracy of the model**"
   ]
  },
  {
   "cell_type": "code",
   "execution_count": 12,
   "metadata": {
    "collapsed": false
   },
   "outputs": [],
   "source": [
    "proc = subprocess.Popen(\n",
    "    [\"caffe\", \"train\", \"--solver=model_spec/solver.prototxt\"],\n",
    "    stderr=subprocess.PIPE)\n",
    "result = proc.communicate()[1]"
   ]
  },
  {
   "cell_type": "markdown",
   "metadata": {},
   "source": [
    "- **Print the last 10 lines of the evaluation of the model**"
   ]
  },
  {
   "cell_type": "code",
   "execution_count": 17,
   "metadata": {
    "collapsed": false
   },
   "outputs": [
    {
     "name": "stdout",
     "output_type": "stream",
     "text": [
      "I0713 22:50:06.096202 2037363472 solver.cpp:486] Iteration 995, lr = 0.0093133\n",
      "I0713 22:50:06.096388 2037363472 solver.cpp:361] Snapshotting to iris_logit_iter_1000.caffemodel\n",
      "I0713 22:50:06.096822 2037363472 solver.cpp:369] Snapshotting solver state to iris_logit_iter_1000.solverstate\n",
      "I0713 22:50:06.097031 2037363472 solver.cpp:276] Iteration 1000, loss = 0.119508\n",
      "I0713 22:50:06.097046 2037363472 solver.cpp:294] Iteration 1000, Testing net (#0)\n",
      "I0713 22:50:06.139744 2037363472 solver.cpp:343]     Test net output #0: accuracy = 0.977782\n",
      "I0713 22:50:06.139782 2037363472 solver.cpp:343]     Test net output #1: loss = 0.142751 (* 1 = 0.142751 loss)\n",
      "I0713 22:50:06.139791 2037363472 solver.cpp:281] Optimization Done.\n",
      "I0713 22:50:06.139796 2037363472 caffe.cpp:134] Optimization Done.\n",
      "\n"
     ]
    }
   ],
   "source": [
    "print '\\n'.join(result.split('\\n')[-10:])"
   ]
  },
  {
   "cell_type": "markdown",
   "metadata": {},
   "source": [
    "- **Move the binary model files into the model directory**"
   ]
  },
  {
   "cell_type": "code",
   "execution_count": null,
   "metadata": {
    "collapsed": true
   },
   "outputs": [],
   "source": [
    "_ = subprocess.call('mv *.caffemodel model && mv *.solverstate model', shell=True)"
   ]
  },
  {
   "cell_type": "markdown",
   "metadata": {},
   "source": [
    "<br>\n",
    "\n",
    "##Part 3: Load Serialized Model and Predict"
   ]
  },
  {
   "cell_type": "code",
   "execution_count": null,
   "metadata": {
    "collapsed": true
   },
   "outputs": [],
   "source": []
  }
 ],
 "metadata": {
  "kernelspec": {
   "display_name": "Python 2",
   "language": "python",
   "name": "python2"
  },
  "language_info": {
   "codemirror_mode": {
    "name": "ipython",
    "version": 2
   },
   "file_extension": ".py",
   "mimetype": "text/x-python",
   "name": "python",
   "nbconvert_exporter": "python",
   "pygments_lexer": "ipython2",
   "version": "2.7.5"
  }
 },
 "nbformat": 4,
 "nbformat_minor": 0
}
