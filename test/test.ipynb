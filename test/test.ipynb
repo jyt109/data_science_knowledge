{
 "cells": [
  {
   "cell_type": "markdown",
   "metadata": {},
   "source": [
    "<table>\n",
    "<tr><td><p style=\"color: red; font-weight: bold\">Variable</p></td><td>Explanation</td></tr>\n",
    "<tr><td>net</td><td>The path to the file that specifies the neural net architecture</td></tr>\n",
    "<tr><td>test_iter</td><td>Specifies how many forward passes the test should carry out. Depends on the batch size. If batch size * test_iter = num of data points then everything provided is tested</td></tr>\n",
    "<tr><td>test_interval</td><td>Carry out testing every certain training iterations. Should not be too high. 500 -1000 points</td></tr>\n",
    "<tr><td>base_lr</td><td>Base Learning Rate</td></tr>\n",
    "</table>"
   ]
  },
  {
   "cell_type": "code",
   "execution_count": null,
   "metadata": {
    "collapsed": true
   },
   "outputs": [],
   "source": []
  }
 ],
 "metadata": {
  "kernelspec": {
   "display_name": "Python 2",
   "language": "python",
   "name": "python2"
  },
  "language_info": {
   "codemirror_mode": {
    "name": "ipython",
    "version": 2
   },
   "file_extension": ".py",
   "mimetype": "text/x-python",
   "name": "python",
   "nbconvert_exporter": "python",
   "pygments_lexer": "ipython2",
   "version": "2.7.5"
  }
 },
 "nbformat": 4,
 "nbformat_minor": 0
}
