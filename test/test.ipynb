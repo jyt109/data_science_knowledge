{
 "cells": [
  {
   "cell_type": "markdown",
   "metadata": {},
   "source": [
    "<div class=\"col-md-6\">\n",
    "          <table class=\"table\">\n",
    "            <thead>\n",
    "              <tr>\n",
    "                <th>#</th>\n",
    "                <th>First Name</th>\n",
    "                <th>Last Name</th>\n",
    "                <th>Username</th>\n",
    "              </tr>\n",
    "            </thead>\n",
    "            <tbody>\n",
    "              <tr>\n",
    "                <td>1</td>\n",
    "                <td>Mark</td>\n",
    "                <td>Otto</td>\n",
    "                <td>@mdo</td>\n",
    "              </tr>\n",
    "              <tr>\n",
    "                <td>2</td>\n",
    "                <td>Jacob</td>\n",
    "                <td>Thornton</td>\n",
    "                <td>@fat</td>\n",
    "              </tr>\n",
    "              <tr>\n",
    "                <td>3</td>\n",
    "                <td>Larry</td>\n",
    "                <td>the Bird</td>\n",
    "                <td>@twitter</td>\n",
    "              </tr>\n",
    "            </tbody>\n",
    "          </table>\n",
    "        </div>"
   ]
  },
  {
   "cell_type": "code",
   "execution_count": 1,
   "metadata": {
    "collapsed": false
   },
   "outputs": [
    {
     "data": {
      "application/javascript": [
       "$('table').css('border', 'none')"
      ],
      "text/plain": [
       "<IPython.core.display.Javascript object>"
      ]
     },
     "execution_count": 1,
     "metadata": {},
     "output_type": "execute_result"
    }
   ],
   "source": [
    "from IPython.core.display import HTML, Javascript\n",
    "style = open('styles/custom.html').read()\n",
    "js = open('styles/custom.js').read()\n",
    "HTML(style)\n",
    "Javascript(js)"
   ]
  },
  {
   "cell_type": "markdown",
   "metadata": {},
   "source": [
    "<button type=\"button\" class=\"btn btn-lg btn-success\">Success</button>"
   ]
  },
  {
   "cell_type": "code",
   "execution_count": null,
   "metadata": {
    "collapsed": true
   },
   "outputs": [],
   "source": []
  }
 ],
 "metadata": {
  "kernelspec": {
   "display_name": "Python 2",
   "language": "python",
   "name": "python2"
  },
  "language_info": {
   "codemirror_mode": {
    "name": "ipython",
    "version": 2
   },
   "file_extension": ".py",
   "mimetype": "text/x-python",
   "name": "python",
   "nbconvert_exporter": "python",
   "pygments_lexer": "ipython2",
   "version": "2.7.5"
  }
 },
 "nbformat": 4,
 "nbformat_minor": 0
}
